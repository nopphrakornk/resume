{
 "cells": [
  {
   "cell_type": "code",
   "execution_count": 1,
   "metadata": {},
   "outputs": [],
   "source": [
    "import torch\n",
    "import json"
   ]
  },
  {
   "cell_type": "code",
   "execution_count": 2,
   "metadata": {},
   "outputs": [],
   "source": [
    "models = __import__(\"midas-api.ttc_classifier\")\n",
    "models = __import__(\"midas-api.ttp_regressor\")\n",
    "models = __import__(\"midas-api.atp_regressor\")"
   ]
  },
  {
   "cell_type": "markdown",
   "metadata": {},
   "source": [
    "#### showcase of 3 models:\n",
    "1. title to category classifier\n",
    "2. title to price regressor\n",
    "3. attribute to price regressor (cars & motorcycles)"
   ]
  },
  {
   "cell_type": "code",
   "execution_count": 3,
   "metadata": {},
   "outputs": [],
   "source": [
    "ttc = models.ttc_classifier\n",
    "ttp = models.ttp_regressor\n",
    "atp = models.atp_regressor"
   ]
  },
  {
   "cell_type": "code",
   "execution_count": 4,
   "metadata": {},
   "outputs": [
    {
     "name": "stdout",
     "output_type": "stream",
     "text": [
      "load models...\n"
     ]
    }
   ],
   "source": [
    "#ttc\n",
    "cate_map_ix_obj = open('midas-api/temp/ttc_classifier_mapping.jsonl')\n",
    "ttc_categories = ttc.Categories(cate_map_ix_obj)\n",
    "ttc_model = ttc.Model(len(ttc_categories.ix_to_cate))\n",
    "ttc_model.load_state_dict(torch.load('midas-api/temp/ttc_classifier.state', map_location='cpu'), strict=True)\n",
    "ttc_model.eval()\n",
    "\n",
    "#ttp\n",
    "ttp_model = ttp.Model()\n",
    "ttp_model.load_state_dict(torch.load('midas-api/temp/ttp_regressor.state', map_location='cpu'), strict=True)\n",
    "ttp_model.eval()\n",
    "\n",
    "#atp\n",
    "attr_to_ix = json.load(open('midas-api/temp/atp_regressor.json'))\n",
    "atp_model = atp.Model(len(attr_to_ix))\n",
    "atp_model.load_state_dict(torch.load('midas-api/temp/atp_regressor.state', map_location='cpu'), strict=True)\n",
    "atp_model.eval()\n",
    "print('load models...')\n"
   ]
  },
  {
   "cell_type": "code",
   "execution_count": 5,
   "metadata": {},
   "outputs": [],
   "source": [
    "ad_title = \"Brand new iphone XR 64GB yellow\""
   ]
  },
  {
   "cell_type": "code",
   "execution_count": 6,
   "metadata": {},
   "outputs": [
    {
     "name": "stdout",
     "output_type": "stream",
     "text": [
      "rank 1 cate_id 89 : mobilephone\n",
      "rank 2 cate_id 264 : mobile_cases\n",
      "rank 3 cate_id 269 : mobile_accessories\n"
     ]
    }
   ],
   "source": [
    "ttc_input = ttc.make_input([ttc.preprocess_text(ad_title)])\n",
    "cate_preds = ttc_model.forward(ttc_input).squeeze(0)\n",
    "_, topk = cate_preds.topk(3)\n",
    "for i, ix in enumerate(topk.tolist()):\n",
    "    cate_ids_pred = ttc_categories.ix_to_cate[ix]\n",
    "    print('rank',i + 1,       \n",
    "        'cate_id', cate_ids_pred, ':',\n",
    "        ttc_categories.cate_to_desc[cate_ids_pred])"
   ]
  },
  {
   "cell_type": "code",
   "execution_count": 7,
   "metadata": {},
   "outputs": [
    {
     "name": "stdout",
     "output_type": "stream",
     "text": [
      "Suggested Low: 9904\n",
      "Suggested Mid: 11182\n",
      "Suggested High: 12881\n"
     ]
    }
   ],
   "source": [
    "ix_cate = ttp.categories.cate_to_ix[89] #mobilephone\n",
    "ttp_input = ttp.make_input([ttp.preprocess_text(ad_title)], [ix_cate])\n",
    "for r, price in zip([\"Low\", \"Mid\", \"High\"], ttp_model.forward(*ttp_input).squeeze().exp().type(torch.int32).tolist()):\n",
    "    print(f'Suggested {r}: {price}', )\n"
   ]
  },
  {
   "cell_type": "code",
   "execution_count": 8,
   "metadata": {},
   "outputs": [
    {
     "name": "stdout",
     "output_type": "stream",
     "text": [
      "Suggested Low: 1680\n",
      "Suggested Mid: 2272\n",
      "Suggested High: 3806\n"
     ]
    }
   ],
   "source": [
    "ix_cate = ttp.categories.cate_to_ix[269] #mobile_accessories\n",
    "ttp_input = ttp.make_input([ttp.preprocess_text(ad_title)], [ix_cate])\n",
    "for r, price in zip([\"Low\", \"Mid\", \"High\"], ttp_model.forward(*ttp_input).squeeze().exp().type(torch.int32).tolist()):\n",
    "    print(f'Suggested {r}: {price}', )\n"
   ]
  },
  {
   "cell_type": "code",
   "execution_count": 9,
   "metadata": {},
   "outputs": [],
   "source": [
    "sample_car1 = {'brand':'toyota', 'model':'vios', 'transmission': 'เกียร์อัตโนมัติ', 'year':'2018', 'cate_id': 11}\n",
    "sample_car2 = {'brand':'mercedes-benz', 'model':'c-class', 'transmission': 'เกียร์อัตโนมัติ', 'year':'2019', 'cate_id': 11}"
   ]
  },
  {
   "cell_type": "code",
   "execution_count": 10,
   "metadata": {},
   "outputs": [
    {
     "name": "stdout",
     "output_type": "stream",
     "text": [
      "{'brand': 'toyota', 'model': 'vios', 'transmission': 'เกียร์อัตโนมัติ', 'year': '2018', 'cate_id': 11}\n",
      "Suggested Low: 430693\n",
      "Suggested Mid: 453632\n",
      "Suggested High: 474619\n"
     ]
    }
   ],
   "source": [
    "print(sample_car1)\n",
    "inp_car = atp.get_attr_indices(sample_car1, attr_to_ix)\n",
    "prices, score =  atp_model.predict(torch.tensor([inp_car]))\n",
    "prices = prices.squeeze().exp().type(torch.int32).tolist()\n",
    "for r, price in zip([\"Low\", \"Mid\", \"High\"], prices):\n",
    "    print(f'Suggested {r}: {price}', )\n",
    "# confidence = 1 - score.squeeze().item()"
   ]
  },
  {
   "cell_type": "code",
   "execution_count": 11,
   "metadata": {},
   "outputs": [
    {
     "name": "stdout",
     "output_type": "stream",
     "text": [
      "{'brand': 'mercedes-benz', 'model': 'c-class', 'transmission': 'เกียร์อัตโนมัติ', 'year': '2019', 'cate_id': 11}\n",
      "Suggested Low: 2031752\n",
      "Suggested Mid: 2138648\n",
      "Suggested High: 2181282\n"
     ]
    }
   ],
   "source": [
    "print(sample_car2)\n",
    "inp_car = atp.get_attr_indices(sample_car2, attr_to_ix)\n",
    "prices, score =  atp_model.predict(torch.tensor([inp_car]))\n",
    "prices = prices.squeeze().exp().type(torch.int32).tolist()\n",
    "for r, price in zip([\"Low\", \"Mid\", \"High\"], prices):\n",
    "    print(f'Suggested {r}: {price}', )\n",
    "# confidence = 1 - score.squeeze().item()"
   ]
  },
  {
   "cell_type": "code",
   "execution_count": null,
   "metadata": {},
   "outputs": [],
   "source": []
  }
 ],
 "metadata": {
  "kernelspec": {
   "display_name": "Python 3",
   "language": "python",
   "name": "python3"
  },
  "language_info": {
   "codemirror_mode": {
    "name": "ipython",
    "version": 3
   },
   "file_extension": ".py",
   "mimetype": "text/x-python",
   "name": "python",
   "nbconvert_exporter": "python",
   "pygments_lexer": "ipython3",
   "version": "3.11.0"
  }
 },
 "nbformat": 4,
 "nbformat_minor": 2
}
